{
 "cells": [
  {
   "cell_type": "code",
   "execution_count": 3,
   "id": "e22d0312",
   "metadata": {},
   "outputs": [
    {
     "name": "stdout",
     "output_type": "stream",
     "text": [
      "Enter student's name: Aditya\n",
      "Enter student's roll number: 1AY19IS004\n",
      "Name: Aditya\n",
      "Roll Number: 1AY19IS004\n"
     ]
    }
   ],
   "source": [
    "class Student:\n",
    "\n",
    "    def __init__(self):\n",
    "        self.__name = None\n",
    "        self.__rollNumber = None\n",
    "\n",
    "    def setName(self, name):\n",
    "        self.__name = name\n",
    "\n",
    "    def getName(self):\n",
    "        return self.__name\n",
    "\n",
    "    def setRollNumber(self, rollNumber):\n",
    "        self.__rollNumber = rollNumber\n",
    "\n",
    "    def getRollNumber(self):\n",
    "        return self.__rollNumber\n",
    "student = Student()\n",
    "name = input(\"Enter student's name: \")\n",
    "rollNumber = input(\"Enter student's roll number: \")\n",
    "student.setName(name)\n",
    "student.setRollNumber(rollNumber)\n",
    "print(\"Name:\", student.getName())\n",
    "print(\"Roll Number:\", student.getRollNumber())\n"
   ]
  },
  {
   "cell_type": "code",
   "execution_count": null,
   "id": "bba0285c",
   "metadata": {},
   "outputs": [],
   "source": []
  },
  {
   "cell_type": "code",
   "execution_count": null,
   "id": "46d303f6",
   "metadata": {},
   "outputs": [],
   "source": []
  }
 ],
 "metadata": {
  "kernelspec": {
   "display_name": "Python 3 (ipykernel)",
   "language": "python",
   "name": "python3"
  },
  "language_info": {
   "codemirror_mode": {
    "name": "ipython",
    "version": 3
   },
   "file_extension": ".py",
   "mimetype": "text/x-python",
   "name": "python",
   "nbconvert_exporter": "python",
   "pygments_lexer": "ipython3",
   "version": "3.9.7"
  }
 },
 "nbformat": 4,
 "nbformat_minor": 5
}

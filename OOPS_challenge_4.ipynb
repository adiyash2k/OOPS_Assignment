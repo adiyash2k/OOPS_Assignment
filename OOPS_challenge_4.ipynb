{
 "cells": [
  {
   "cell_type": "code",
   "execution_count": 2,
   "id": "955381a0",
   "metadata": {},
   "outputs": [
    {
     "name": "stdout",
     "output_type": "stream",
     "text": [
      "Enter account title: Aditya\n",
      "Enter account balance: 5000\n",
      "Account Title: Aditya\n",
      "Account Balance: 5000.0\n",
      "Enter savings account title: Aditya\n",
      "Enter savings account balance: 5000\n",
      "Enter interest rate: 5\n",
      "Savings Account Title: Aditya\n",
      "Savings Account Balance: 5000.0\n",
      "Interest Rate: 5.0\n"
     ]
    }
   ],
   "source": [
    "class Account:\n",
    "    def __init__(self, title, balance):\n",
    "        self.title = title\n",
    "        self.balance = balance\n",
    "\n",
    "class SavingsAccount(Account):\n",
    "    def __init__(self, title, balance, interestRate):\n",
    "        super().__init__(title, balance)\n",
    "        self.interestRate = interestRate\n",
    "\n",
    "account_title = input(\"Enter account title: \")\n",
    "account_balance = float(input(\"Enter account balance: \"))\n",
    "account = Account(account_title, account_balance)\n",
    "print(\"Account Title:\", account.title)\n",
    "print(\"Account Balance:\", account.balance)\n",
    "savings_account_title = input(\"Enter savings account title: \")\n",
    "savings_account_balance = float(input(\"Enter savings account balance: \"))\n",
    "interest_rate = float(input(\"Enter interest rate: \"))\n",
    "savings_account = SavingsAccount(savings_account_title, savings_account_balance, interest_rate)\n",
    "print(\"Savings Account Title:\", savings_account.title)\n",
    "print(\"Savings Account Balance:\", savings_account.balance)\n",
    "print(\"Interest Rate:\", savings_account.interestRate)\n"
   ]
  },
  {
   "cell_type": "code",
   "execution_count": null,
   "id": "2c89648b",
   "metadata": {},
   "outputs": [],
   "source": []
  }
 ],
 "metadata": {
  "kernelspec": {
   "display_name": "Python 3 (ipykernel)",
   "language": "python",
   "name": "python3"
  },
  "language_info": {
   "codemirror_mode": {
    "name": "ipython",
    "version": 3
   },
   "file_extension": ".py",
   "mimetype": "text/x-python",
   "name": "python",
   "nbconvert_exporter": "python",
   "pygments_lexer": "ipython3",
   "version": "3.9.7"
  }
 },
 "nbformat": 4,
 "nbformat_minor": 5
}

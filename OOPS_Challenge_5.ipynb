{
 "cells": [
  {
   "cell_type": "code",
   "execution_count": 1,
   "id": "1af9da75",
   "metadata": {},
   "outputs": [
    {
     "name": "stdout",
     "output_type": "stream",
     "text": [
      "Enter account title: Aditya\n",
      "Enter account balance: 5000\n",
      "Enter interest rate: 5\n",
      "Enter deposit amount: 500\n",
      "Balance after deposit: 5500.0\n",
      "Enter withdrawal amount: 1000\n",
      "Balance after withdrawal: 4500.0\n",
      "Interest Amount: 225.0\n"
     ]
    }
   ],
   "source": [
    "class Account:\n",
    "    def __init__(self, title=None, balance=0):\n",
    "        self.title = title\n",
    "        self.balance = balance\n",
    "\n",
    "    def withdrawal(self, amount):\n",
    "        self.balance -= amount\n",
    "\n",
    "    def deposit(self, amount):\n",
    "        self.balance += amount\n",
    "\n",
    "    def getBalance(self):\n",
    "        return self.balance\n",
    "\n",
    "class SavingsAccount(Account):\n",
    "    def __init__(self, title=None, balance=0, interestRate=0):\n",
    "        super().__init__(title, balance)\n",
    "        self.interestRate = interestRate\n",
    "\n",
    "    def interestAmount(self):\n",
    "        return (self.balance * self.interestRate) / 100\n",
    "\n",
    "title = input(\"Enter account title: \")\n",
    "balance = float(input(\"Enter account balance: \"))\n",
    "interest_rate = float(input(\"Enter interest rate: \"))\n",
    "\n",
    "demo1 = SavingsAccount(title, balance, interest_rate)\n",
    "\n",
    "deposit_amount = float(input(\"Enter deposit amount: \"))\n",
    "demo1.deposit(deposit_amount)\n",
    "print(\"Balance after deposit:\", demo1.getBalance())\n",
    "\n",
    "withdrawal_amount = float(input(\"Enter withdrawal amount: \"))\n",
    "demo1.withdrawal(withdrawal_amount)\n",
    "print(\"Balance after withdrawal:\", demo1.getBalance())\n",
    "\n",
    "print(\"Interest Amount:\", demo1.interestAmount())\n"
   ]
  },
  {
   "cell_type": "code",
   "execution_count": null,
   "id": "de630dab",
   "metadata": {},
   "outputs": [],
   "source": []
  }
 ],
 "metadata": {
  "kernelspec": {
   "display_name": "Python 3 (ipykernel)",
   "language": "python",
   "name": "python3"
  },
  "language_info": {
   "codemirror_mode": {
    "name": "ipython",
    "version": 3
   },
   "file_extension": ".py",
   "mimetype": "text/x-python",
   "name": "python",
   "nbconvert_exporter": "python",
   "pygments_lexer": "ipython3",
   "version": "3.9.7"
  }
 },
 "nbformat": 4,
 "nbformat_minor": 5
}
